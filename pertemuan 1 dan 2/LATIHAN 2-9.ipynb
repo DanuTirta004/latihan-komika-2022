{
 "cells": [
  {
   "cell_type": "markdown",
   "id": "1aaeadd8",
   "metadata": {},
   "source": [
    "# LATIHAN 2"
   ]
  },
  {
   "cell_type": "code",
   "execution_count": 1,
   "id": "fcb04256",
   "metadata": {},
   "outputs": [
    {
     "name": "stdout",
     "output_type": "stream",
     "text": [
      "masukkan nama user :Danu Tirta Gunx rupawan\n",
      "halo,  Danu Tirta Gunx rupawan\n"
     ]
    }
   ],
   "source": [
    "nama_user = input(\"masukkan nama user :\")\n",
    "\n",
    "print(\"halo, \",nama_user)"
   ]
  },
  {
   "cell_type": "markdown",
   "id": "34bbca00",
   "metadata": {},
   "source": [
    "# LATIHAN 3"
   ]
  },
  {
   "cell_type": "code",
   "execution_count": 2,
   "id": "e8e39baa",
   "metadata": {},
   "outputs": [
    {
     "name": "stdout",
     "output_type": "stream",
     "text": [
      "masukkan panjang :14\n",
      "masukkan lebar :5\n",
      "70.0 m2\n"
     ]
    }
   ],
   "source": [
    "panjang = float(input(\"masukkan panjang :\"))\n",
    "lebar = float(input(\"masukkan lebar :\"))\n",
    "\n",
    "luas = panjang*lebar\n",
    "\n",
    "print(luas,\"m2\")"
   ]
  },
  {
   "cell_type": "markdown",
   "id": "4cb5e504",
   "metadata": {},
   "source": [
    "# LATIHAN 4"
   ]
  },
  {
   "cell_type": "code",
   "execution_count": 3,
   "id": "635bc2f5",
   "metadata": {},
   "outputs": [
    {
     "name": "stdout",
     "output_type": "stream",
     "text": [
      "masukkan nilai n :13\n",
      "91.0\n"
     ]
    }
   ],
   "source": [
    "n = int(input(\"masukkan nilai n :\"))\n",
    "\n",
    "sum = (n)*(n+1)/2\n",
    "\n",
    "print(sum)"
   ]
  },
  {
   "cell_type": "markdown",
   "id": "2a37a7f9",
   "metadata": {},
   "source": [
    "# LATIHAN 5"
   ]
  },
  {
   "cell_type": "code",
   "execution_count": 4,
   "id": "4a29cef5",
   "metadata": {},
   "outputs": [
    {
     "name": "stdout",
     "output_type": "stream",
     "text": [
      "masukkan tinggi dalam kaki :5.3\n",
      "161.54399999999998 cm\n"
     ]
    }
   ],
   "source": [
    "kaki = float(input(\"masukkan tinggi dalam kaki :\"))\n",
    "inci = 12*kaki\n",
    "centimeter = 2.54*inci\n",
    "\n",
    "print(centimeter,\"cm\")"
   ]
  },
  {
   "cell_type": "markdown",
   "id": "fec43af2",
   "metadata": {},
   "source": [
    "# LATIHAN 6"
   ]
  },
  {
   "cell_type": "code",
   "execution_count": 5,
   "id": "f85a92cc",
   "metadata": {},
   "outputs": [
    {
     "name": "stdout",
     "output_type": "stream",
     "text": [
      "masukkan jarak dalam feet :14.2\n",
      "inchi\t: 170.39999999999998 \n",
      "yard\t: 4.733286 \n",
      "mil\t: 0.002689338\n"
     ]
    }
   ],
   "source": [
    "feet = float(input(\"masukkan jarak dalam feet :\"))\n",
    "inch = 12*feet\n",
    "yard = 0.33333*feet\n",
    "mil = 0.00018939*feet\n",
    "\n",
    "print(\"inchi\\t:\",inch,\"\\nyard\\t:\",yard,\"\\nmil\\t:\",mil)"
   ]
  },
  {
   "cell_type": "markdown",
   "id": "5d6ab108",
   "metadata": {},
   "source": [
    "# LATIHAN 7"
   ]
  },
  {
   "cell_type": "code",
   "execution_count": 6,
   "id": "beae7d42",
   "metadata": {},
   "outputs": [
    {
     "name": "stdout",
     "output_type": "stream",
     "text": [
      "masukkan panjang alas :14\n",
      "masukkan tinggi segitiga :7\n",
      "jadi luas segitiga adalah :  49.0 m2\n"
     ]
    }
   ],
   "source": [
    "a = float(input(\"masukkan panjang alas :\"))\n",
    "t = float(input(\"masukkan tinggi segitiga :\"))\n",
    "\n",
    "area = (a*t)/2\n",
    "\n",
    "print(\"jadi luas segitiga adalah : \",area,\"m2\")"
   ]
  },
  {
   "cell_type": "markdown",
   "id": "f4acd197",
   "metadata": {},
   "source": [
    "# LATIHAN 8"
   ]
  },
  {
   "cell_type": "code",
   "execution_count": 7,
   "id": "a65157f5",
   "metadata": {},
   "outputs": [
    {
     "name": "stdout",
     "output_type": "stream",
     "text": [
      "masukkan berat (kg) :55.3\n",
      "masukkan tinggi (m) :162.5\n",
      "0.0020942011834319527\n"
     ]
    }
   ],
   "source": [
    "weight = float(input(\"masukkan berat (kg) :\"))\n",
    "height = float(input(\"masukkan tinggi (m) :\"))\n",
    "\n",
    "BMI = weight/(height*height)\n",
    "\n",
    "print (BMI)"
   ]
  },
  {
   "cell_type": "markdown",
   "id": "554aeb7c",
   "metadata": {},
   "source": [
    "# LATIHAN 9"
   ]
  },
  {
   "cell_type": "code",
   "execution_count": 9,
   "id": "a0a824bd",
   "metadata": {},
   "outputs": [
    {
     "name": "stdout",
     "output_type": "stream",
     "text": [
      "masukkan massa (kg) :8\n",
      "masukkan luas permukkan (m2) :2\n",
      "pound per inci persegi\t: 0.0056893476108 psi \n",
      "milimeter merkuri\t: 0.29422382049199997 mmhg \n",
      "atmosfer\t\t: 0.000387136337518 atm\n"
     ]
    }
   ],
   "source": [
    "m= float(input(\"masukkan massa (kg) :\"))\n",
    "A = float(input(\"masukkan luas permukkan (m2) :\"))\n",
    "g = 9.80665\n",
    "\n",
    "p = m*g/A\n",
    "\n",
    "kilopascal = p/1000 \n",
    "psi = 0.145038*kilopascal\n",
    "mmhg = 7.50062*kilopascal\n",
    "atm = 0.00986923*kilopascal\n",
    "\n",
    "print(\"pound per inci persegi\\t:\",psi,\"psi\",\"\\nmilimeter merkuri\\t:\",mmhg,\"mmhg\",\"\\natmosfer\\t\\t:\",atm,\"atm\")"
   ]
  },
  {
   "cell_type": "code",
   "execution_count": null,
   "id": "2e52de10",
   "metadata": {},
   "outputs": [],
   "source": []
  }
 ],
 "metadata": {
  "kernelspec": {
   "display_name": "Python 3 (ipykernel)",
   "language": "python",
   "name": "python3"
  },
  "language_info": {
   "codemirror_mode": {
    "name": "ipython",
    "version": 3
   },
   "file_extension": ".py",
   "mimetype": "text/x-python",
   "name": "python",
   "nbconvert_exporter": "python",
   "pygments_lexer": "ipython3",
   "version": "3.9.7"
  }
 },
 "nbformat": 4,
 "nbformat_minor": 5
}
